{
 "cells":[
  {
   "cell_type":"markdown",
   "source":[
    "**Homework - Sprint 04 - Data transformation**"
   ],
   "attachments":{
    
   },
   "metadata":{
    "datalore":{
     "node_id":"uvCr0jsYvZCK8yKsMwdtWv",
     "type":"MD",
     "hide_input_from_viewers":false,
     "hide_output_from_viewers":false
    }
   }
  },
  {
   "cell_type":"markdown",
   "source":[
    "**NYC Flights 2013 Analysis**"
   ],
   "attachments":{
    
   },
   "metadata":{
    "datalore":{
     "node_id":"1pou7Z2K4fp8JtsWK3nOom",
     "type":"MD",
     "hide_input_from_viewers":false,
     "hide_output_from_viewers":false
    }
   }
  },
  {
   "cell_type":"code",
   "source":[
    "library(dplyr)\n",
    "library(tidyverse)"
   ],
   "execution_count":1,
   "outputs":[
    {
     "name":"stderr",
     "text":[
      "\n",
      "Attaching package: ‘dplyr’\n",
      "\n",
      "\n",
      "The following objects are masked from ‘package:stats’:\n",
      "\n",
      "    filter, lag\n",
      "\n",
      "\n",
      "The following objects are masked from ‘package:base’:\n",
      "\n",
      "    intersect, setdiff, setequal, union\n",
      "\n",
      "\n",
      "Warning message in system(\"timedatectl\", intern = TRUE):\n",
      "“running command 'timedatectl' had status 1”\n",
      "Warning message:\n",
      "“Failed to locate timezone database”\n",
      "── \u001b[1mAttaching packages\u001b[22m ─────────────────────────────────────── tidyverse 1.3.1 ──\n",
      "\n",
      "\u001b[32m✔\u001b[39m \u001b[34mggplot2\u001b[39m 3.3.5     \u001b[32m✔\u001b[39m \u001b[34mpurrr  \u001b[39m 0.3.4\n",
      "\u001b[32m✔\u001b[39m \u001b[34mtibble \u001b[39m 3.1.5     \u001b[32m✔\u001b[39m \u001b[34mstringr\u001b[39m 1.4.0\n",
      "\u001b[32m✔\u001b[39m \u001b[34mtidyr  \u001b[39m 1.1.4     \u001b[32m✔\u001b[39m \u001b[34mforcats\u001b[39m 0.5.1\n",
      "\u001b[32m✔\u001b[39m \u001b[34mreadr  \u001b[39m 2.0.2     \n",
      "\n",
      "── \u001b[1mConflicts\u001b[22m ────────────────────────────────────────── tidyverse_conflicts() ──\n",
      "\u001b[31m✖\u001b[39m \u001b[34mdplyr\u001b[39m::\u001b[32mfilter()\u001b[39m  masks \u001b[34mstats\u001b[39m::filter()\n",
      "\u001b[31m✖\u001b[39m \u001b[34mpurrr\u001b[39m::\u001b[32mflatten()\u001b[39m masks \u001b[34mjsonlite\u001b[39m::flatten()\n",
      "\u001b[31m✖\u001b[39m \u001b[34mdplyr\u001b[39m::\u001b[32mlag()\u001b[39m     masks \u001b[34mstats\u001b[39m::lag()\n",
      "\n"
     ],
     "output_type":"stream"
    }
   ],
   "metadata":{
    "datalore":{
     "node_id":"k2HXbxUv1d3ih57yQmTrCQ",
     "type":"CODE",
     "hide_input_from_viewers":false,
     "hide_output_from_viewers":false
    }
   }
  },
  {
   "cell_type":"code",
   "source":[
    "flights <- read_csv(\"flights.csv\")\n",
    "airlines <- read_csv(\"airlines\")"
   ],
   "execution_count":2,
   "outputs":[
    {
     "name":"stderr",
     "text":[
      "\u001b[1m\u001b[1mRows: \u001b[1m\u001b[22m\u001b[34m\u001b[34m336776\u001b[34m\u001b[39m \u001b[1m\u001b[1mColumns: \u001b[1m\u001b[22m\u001b[34m\u001b[34m19\u001b[34m\u001b[39m\n",
      "\n",
      "\u001b[36m──\u001b[39m \u001b[1m\u001b[1mColumn specification\u001b[1m\u001b[22m \u001b[36m────────────────────────────────────────────────────────\u001b[39m\n",
      "\u001b[1mDelimiter:\u001b[22m \",\"\n",
      "\u001b[31mchr\u001b[39m   (4): carrier, tailnum, origin, dest\n",
      "\u001b[32mdbl\u001b[39m  (14): year, month, day, dep_time, sched_dep_time, dep_delay, arr_time, ...\n",
      "\u001b[34mdttm\u001b[39m  (1): time_hour\n",
      "\n",
      "\n",
      "\u001b[36mℹ\u001b[39m Use \u001b[30m\u001b[47m\u001b[30m\u001b[47m`spec()`\u001b[47m\u001b[30m\u001b[49m\u001b[39m to retrieve the full column specification for this data.\n",
      "\u001b[36mℹ\u001b[39m Specify the column types or set \u001b[30m\u001b[47m\u001b[30m\u001b[47m`show_col_types = FALSE`\u001b[47m\u001b[30m\u001b[49m\u001b[39m to quiet this message.\n",
      "\n",
      "New names:\n",
      "* `` -> ...1\n",
      "\n",
      "\u001b[1m\u001b[1mRows: \u001b[1m\u001b[22m\u001b[34m\u001b[34m16\u001b[34m\u001b[39m \u001b[1m\u001b[1mColumns: \u001b[1m\u001b[22m\u001b[34m\u001b[34m3\u001b[34m\u001b[39m\n",
      "\n",
      "\u001b[36m──\u001b[39m \u001b[1m\u001b[1mColumn specification\u001b[1m\u001b[22m \u001b[36m────────────────────────────────────────────────────────\u001b[39m\n",
      "\u001b[1mDelimiter:\u001b[22m \",\"\n",
      "\u001b[31mchr\u001b[39m (2): carrier, name\n",
      "\u001b[32mdbl\u001b[39m (1): ...1\n",
      "\n",
      "\n",
      "\u001b[36mℹ\u001b[39m Use \u001b[30m\u001b[47m\u001b[30m\u001b[47m`spec()`\u001b[47m\u001b[30m\u001b[49m\u001b[39m to retrieve the full column specification for this data.\n",
      "\u001b[36mℹ\u001b[39m Specify the column types or set \u001b[30m\u001b[47m\u001b[30m\u001b[47m`show_col_types = FALSE`\u001b[47m\u001b[30m\u001b[49m\u001b[39m to quiet this message.\n",
      "\n"
     ],
     "output_type":"stream"
    }
   ],
   "metadata":{
    "datalore":{
     "node_id":"ZL6E5P9EADuyv9Jbm6XclE",
     "type":"CODE",
     "hide_input_from_viewers":false,
     "hide_output_from_viewers":false
    }
   }
  },
  {
   "cell_type":"markdown",
   "source":[
    "Preview Data"
   ],
   "attachments":{
    
   },
   "metadata":{
    "datalore":{
     "node_id":"thBUUH3TPDyOJEfTpufkmG",
     "type":"MD",
     "hide_input_from_viewers":false,
     "hide_output_from_viewers":false
    }
   }
  },
  {
   "cell_type":"code",
   "source":[
    "glimpse(flights)"
   ],
   "execution_count":3,
   "outputs":[
    {
     "name":"stdout",
     "text":[
      "Rows: 336,776\n",
      "Columns: 19\n",
      "$ year           \u001b[3m\u001b[90m<dbl>\u001b[39m\u001b[23m 2013, 2013, 2013, 2013, 2013, 2013, 2013, 2013, 2013, 2…\n",
      "$ month          \u001b[3m\u001b[90m<dbl>\u001b[39m\u001b[23m 1, 1, 1, 1, 1, 1, 1, 1, 1, 1, 1, 1, 1, 1, 1, 1, 1, 1, 1…\n",
      "$ day            \u001b[3m\u001b[90m<dbl>\u001b[39m\u001b[23m 1, 1, 1, 1, 1, 1, 1, 1, 1, 1, 1, 1, 1, 1, 1, 1, 1, 1, 1…\n",
      "$ dep_time       \u001b[3m\u001b[90m<dbl>\u001b[39m\u001b[23m 517, 533, 542, 544, 554, 554, 555, 557, 557, 558, 558, …\n",
      "$ sched_dep_time \u001b[3m\u001b[90m<dbl>\u001b[39m\u001b[23m 515, 529, 540, 545, 600, 558, 600, 600, 600, 600, 600, …\n",
      "$ dep_delay      \u001b[3m\u001b[90m<dbl>\u001b[39m\u001b[23m 2, 4, 2, -1, -6, -4, -5, -3, -3, -2, -2, -2, -2, -2, -1…\n",
      "$ arr_time       \u001b[3m\u001b[90m<dbl>\u001b[39m\u001b[23m 830, 850, 923, 1004, 812, 740, 913, 709, 838, 753, 849,…\n",
      "$ sched_arr_time \u001b[3m\u001b[90m<dbl>\u001b[39m\u001b[23m 819, 830, 850, 1022, 837, 728, 854, 723, 846, 745, 851,…\n",
      "$ arr_delay      \u001b[3m\u001b[90m<dbl>\u001b[39m\u001b[23m 11, 20, 33, -18, -25, 12, 19, -14, -8, 8, -2, -3, 7, -1…\n",
      "$ carrier        \u001b[3m\u001b[90m<chr>\u001b[39m\u001b[23m \"UA\", \"UA\", \"AA\", \"B6\", \"DL\", \"UA\", \"B6\", \"EV\", \"B6\", \"…\n",
      "$ flight         \u001b[3m\u001b[90m<dbl>\u001b[39m\u001b[23m 1545, 1714, 1141, 725, 461, 1696, 507, 5708, 79, 301, 4…\n",
      "$ tailnum        \u001b[3m\u001b[90m<chr>\u001b[39m\u001b[23m \"N14228\", \"N24211\", \"N619AA\", \"N804JB\", \"N668DN\", \"N394…\n",
      "$ origin         \u001b[3m\u001b[90m<chr>\u001b[39m\u001b[23m \"EWR\", \"LGA\", \"JFK\", \"JFK\", \"LGA\", \"EWR\", \"EWR\", \"LGA\",…\n",
      "$ dest           \u001b[3m\u001b[90m<chr>\u001b[39m\u001b[23m \"IAH\", \"IAH\", \"MIA\", \"BQN\", \"ATL\", \"ORD\", \"FLL\", \"IAD\",…\n",
      "$ air_time       \u001b[3m\u001b[90m<dbl>\u001b[39m\u001b[23m 227, 227, 160, 183, 116, 150, 158, 53, 140, 138, 149, 1…\n",
      "$ distance       \u001b[3m\u001b[90m<dbl>\u001b[39m\u001b[23m 1400, 1416, 1089, 1576, 762, 719, 1065, 229, 944, 733, …\n",
      "$ hour           \u001b[3m\u001b[90m<dbl>\u001b[39m\u001b[23m 5, 5, 5, 5, 6, 5, 6, 6, 6, 6, 6, 6, 6, 6, 6, 5, 6, 6, 6…\n",
      "$ minute         \u001b[3m\u001b[90m<dbl>\u001b[39m\u001b[23m 15, 29, 40, 45, 0, 58, 0, 0, 0, 0, 0, 0, 0, 0, 0, 59, 0…\n",
      "$ time_hour      \u001b[3m\u001b[90m<dttm>\u001b[39m\u001b[23m 2013-01-01 10:00:00, 2013-01-01 10:00:00, 2013-01-01 1…\n"
     ],
     "output_type":"stream"
    }
   ],
   "metadata":{
    "datalore":{
     "node_id":"HyVKMLMISlYeDwxPLXY7Kj",
     "type":"CODE",
     "hide_input_from_viewers":false,
     "hide_output_from_viewers":false
    }
   }
  },
  {
   "cell_type":"markdown",
   "source":[
    "Q1.Top 5 months that has the most flights arrange by total flights"
   ],
   "attachments":{
    
   },
   "metadata":{
    "datalore":{
     "node_id":"N3iDYsxB4kOMjcMk1oMeOU",
     "type":"MD",
     "hide_input_from_viewers":false,
     "hide_output_from_viewers":false
    }
   }
  },
  {
   "cell_type":"code",
   "source":[
    "flights%>%\n",
    "  group_by(month)%>%\n",
    "  count()%>%\n",
    "  arrange(desc(n))%>%\n",
    "  rename(total_flights=n)%>%\n",
    "  head(5)"
   ],
   "execution_count":4,
   "outputs":[
    {
     "data":{
      "text\/html":[
       "<table class=\"dataframe\">\n",
       "<caption>A grouped_df: 5 × 2<\/caption>\n",
       "<thead>\n",
       "\t<tr><th scope=col>month<\/th><th scope=col>total_flights<\/th><\/tr>\n",
       "\t<tr><th scope=col>&lt;dbl&gt;<\/th><th scope=col>&lt;int&gt;<\/th><\/tr>\n",
       "<\/thead>\n",
       "<tbody>\n",
       "\t<tr><td> 7<\/td><td>29425<\/td><\/tr>\n",
       "\t<tr><td> 8<\/td><td>29327<\/td><\/tr>\n",
       "\t<tr><td>10<\/td><td>28889<\/td><\/tr>\n",
       "\t<tr><td> 3<\/td><td>28834<\/td><\/tr>\n",
       "\t<tr><td> 5<\/td><td>28796<\/td><\/tr>\n",
       "<\/tbody>\n",
       "<\/table>\n"
      ]
     },
     "metadata":{
      
     },
     "output_type":"display_data"
    }
   ],
   "metadata":{
    "datalore":{
     "node_id":"i0iA6TvSkvN2eB173VxWIJ",
     "type":"CODE",
     "hide_input_from_viewers":false,
     "hide_output_from_viewers":false
    }
   }
  },
  {
   "cell_type":"markdown",
   "source":[
    "Q2.Carrier that has most flights in Fourth Quarter"
   ],
   "attachments":{
    
   },
   "metadata":{
    "datalore":{
     "node_id":"eg1Xu9wAqhWwaFcGGj9DTD",
     "type":"MD",
     "hide_input_from_viewers":false,
     "hide_output_from_viewers":false
    }
   }
  },
  {
   "cell_type":"code",
   "source":[
    "flights%>%\n",
    "  filter(between(month,10,12))%>%\n",
    "  count(carrier)%>%\n",
    "  left_join(airlines,by = \"carrier\")%>%\n",
    "  arrange(desc(n))%>%\n",
    "  rename(total_flights=n)%>%\n",
    "  select(total_flights,carrier,name)"
   ],
   "execution_count":5,
   "outputs":[
    {
     "data":{
      "text\/html":[
       "<table class=\"dataframe\">\n",
       "<caption>A tibble: 16 × 3<\/caption>\n",
       "<thead>\n",
       "\t<tr><th scope=col>total_flights<\/th><th scope=col>carrier<\/th><th scope=col>name<\/th><\/tr>\n",
       "\t<tr><th scope=col>&lt;int&gt;<\/th><th scope=col>&lt;chr&gt;<\/th><th scope=col>&lt;chr&gt;<\/th><\/tr>\n",
       "<\/thead>\n",
       "<tbody>\n",
       "\t<tr><td>14845<\/td><td>UA<\/td><td>United Air Lines Inc.      <\/td><\/tr>\n",
       "\t<tr><td>13686<\/td><td>EV<\/td><td>ExpressJet Airlines Inc.   <\/td><\/tr>\n",
       "\t<tr><td>13391<\/td><td>B6<\/td><td>JetBlue Airways            <\/td><\/tr>\n",
       "\t<tr><td>12035<\/td><td>DL<\/td><td>Delta Air Lines Inc.       <\/td><\/tr>\n",
       "\t<tr><td> 7997<\/td><td>AA<\/td><td>American Airlines Inc.     <\/td><\/tr>\n",
       "\t<tr><td> 6423<\/td><td>MQ<\/td><td>Envoy Air                  <\/td><\/tr>\n",
       "\t<tr><td> 5150<\/td><td>US<\/td><td>US Airways Inc.            <\/td><\/tr>\n",
       "\t<tr><td> 4901<\/td><td>9E<\/td><td>Endeavor Air Inc.          <\/td><\/tr>\n",
       "\t<tr><td> 3223<\/td><td>WN<\/td><td>Southwest Airlines Co.     <\/td><\/tr>\n",
       "\t<tr><td> 1399<\/td><td>VX<\/td><td>Virgin America             <\/td><\/tr>\n",
       "\t<tr><td>  651<\/td><td>FL<\/td><td>AirTran Airways Corporation<\/td><\/tr>\n",
       "\t<tr><td>  179<\/td><td>F9<\/td><td>Frontier Airlines Inc.     <\/td><\/tr>\n",
       "\t<tr><td>  168<\/td><td>AS<\/td><td>Alaska Airlines Inc.       <\/td><\/tr>\n",
       "\t<tr><td>  165<\/td><td>YV<\/td><td>Mesa Airlines Inc.         <\/td><\/tr>\n",
       "\t<tr><td>   74<\/td><td>HA<\/td><td>Hawaiian Airlines Inc.     <\/td><\/tr>\n",
       "\t<tr><td>    5<\/td><td>OO<\/td><td>SkyWest Airlines Inc.      <\/td><\/tr>\n",
       "<\/tbody>\n",
       "<\/table>\n"
      ]
     },
     "metadata":{
      
     },
     "output_type":"display_data"
    }
   ],
   "metadata":{
    "datalore":{
     "node_id":"pUXTlntI76g8UkrzBfSIx2",
     "type":"CODE",
     "hide_input_from_viewers":false,
     "hide_output_from_viewers":false
    }
   }
  },
  {
   "cell_type":"markdown",
   "source":[
    "Q.3 Top 10 airports that people from JFK mostly go"
   ],
   "attachments":{
    
   },
   "metadata":{
    "datalore":{
     "node_id":"nfYxJ3MoEeeTBB4aUMif8O",
     "type":"MD",
     "hide_input_from_viewers":false,
     "hide_output_from_viewers":false
    }
   }
  },
  {
   "cell_type":"code",
   "source":[
    "flights%>%\n",
    "  filter(origin==\"JFK\",between(month,1,3))%>%\n",
    "  count(dest)%>%\n",
    "  arrange(desc(n))%>%\n",
    "  head(10)"
   ],
   "execution_count":6,
   "outputs":[
    {
     "data":{
      "text\/html":[
       "<table class=\"dataframe\">\n",
       "<caption>A tibble: 10 × 2<\/caption>\n",
       "<thead>\n",
       "\t<tr><th scope=col>dest<\/th><th scope=col>n<\/th><\/tr>\n",
       "\t<tr><th scope=col>&lt;chr&gt;<\/th><th scope=col>&lt;int&gt;<\/th><\/tr>\n",
       "<\/thead>\n",
       "<tbody>\n",
       "\t<tr><td>LAX<\/td><td>2731<\/td><\/tr>\n",
       "\t<tr><td>SFO<\/td><td>1934<\/td><\/tr>\n",
       "\t<tr><td>BOS<\/td><td>1428<\/td><\/tr>\n",
       "\t<tr><td>MCO<\/td><td>1372<\/td><\/tr>\n",
       "\t<tr><td>FLL<\/td><td>1304<\/td><\/tr>\n",
       "\t<tr><td>SJU<\/td><td>1217<\/td><\/tr>\n",
       "\t<tr><td>LAS<\/td><td> 846<\/td><\/tr>\n",
       "\t<tr><td>MIA<\/td><td> 823<\/td><\/tr>\n",
       "\t<tr><td>BUF<\/td><td> 819<\/td><\/tr>\n",
       "\t<tr><td>RDU<\/td><td> 812<\/td><\/tr>\n",
       "<\/tbody>\n",
       "<\/table>\n"
      ]
     },
     "metadata":{
      
     },
     "output_type":"display_data"
    }
   ],
   "metadata":{
    "datalore":{
     "node_id":"NlTC17L7HMQ0izEUffCAYf",
     "type":"CODE",
     "hide_input_from_viewers":false,
     "hide_output_from_viewers":false
    }
   }
  },
  {
   "cell_type":"markdown",
   "source":[
    "Q.4 Date in September that UA has most flights"
   ],
   "attachments":{
    
   },
   "metadata":{
    "datalore":{
     "node_id":"FYK5TNO5Pw80sGjWw8VKCR",
     "type":"MD",
     "hide_input_from_viewers":false,
     "hide_output_from_viewers":false
    }
   }
  },
  {
   "cell_type":"code",
   "source":[
    "\n",
    "flights%>%\n",
    "  filter(month == 9,carrier==\"UA\")%>%\n",
    "  group_by(day)%>%\n",
    "  count()%>%\n",
    "  arrange(desc(n))%>%\n",
    "  rename(total_flights=n)%>%\n",
    "  head(10)"
   ],
   "execution_count":7,
   "outputs":[
    {
     "data":{
      "text\/html":[
       "<table class=\"dataframe\">\n",
       "<caption>A grouped_df: 10 × 2<\/caption>\n",
       "<thead>\n",
       "\t<tr><th scope=col>day<\/th><th scope=col>total_flights<\/th><\/tr>\n",
       "\t<tr><th scope=col>&lt;dbl&gt;<\/th><th scope=col>&lt;int&gt;<\/th><\/tr>\n",
       "<\/thead>\n",
       "<tbody>\n",
       "\t<tr><td>26<\/td><td>176<\/td><\/tr>\n",
       "\t<tr><td>27<\/td><td>176<\/td><\/tr>\n",
       "\t<tr><td>30<\/td><td>175<\/td><\/tr>\n",
       "\t<tr><td>25<\/td><td>172<\/td><\/tr>\n",
       "\t<tr><td> 5<\/td><td>169<\/td><\/tr>\n",
       "\t<tr><td> 6<\/td><td>168<\/td><\/tr>\n",
       "\t<tr><td> 9<\/td><td>168<\/td><\/tr>\n",
       "\t<tr><td>13<\/td><td>168<\/td><\/tr>\n",
       "\t<tr><td>16<\/td><td>168<\/td><\/tr>\n",
       "\t<tr><td>20<\/td><td>168<\/td><\/tr>\n",
       "<\/tbody>\n",
       "<\/table>\n"
      ]
     },
     "metadata":{
      
     },
     "output_type":"display_data"
    }
   ],
   "metadata":{
    "datalore":{
     "node_id":"NCwfrmCFLSle3LC7s6hkJ2",
     "type":"CODE",
     "hide_input_from_viewers":false,
     "hide_output_from_viewers":false
    }
   }
  },
  {
   "cell_type":"markdown",
   "source":[
    "Q.5 Carrier that has most delay (times) in December 2013 only arrival delayed"
   ],
   "attachments":{
    
   },
   "metadata":{
    "datalore":{
     "node_id":"nRLGK6rf1aYRhLctvJbTji",
     "type":"MD",
     "hide_input_from_viewers":false,
     "hide_output_from_viewers":false
    }
   }
  },
  {
   "cell_type":"code",
   "source":[
    "\n",
    "flights%>%\n",
    "  filter(month == 12,)%>%\n",
    "  group_by(carrier)%>%\n",
    "  mutate(delayed = if_else(arr_delay>0,1,0,0))%>%\n",
    "  summarise(total_delay=sum(delayed))%>%\n",
    "  arrange(desc(total_delay))\n",
    "  tibble()"
   ],
   "execution_count":8,
   "outputs":[
    {
     "data":{
      "text\/html":[
       "<table class=\"dataframe\">\n",
       "<caption>A tibble: 15 × 2<\/caption>\n",
       "<thead>\n",
       "\t<tr><th scope=col>carrier<\/th><th scope=col>total_delay<\/th><\/tr>\n",
       "\t<tr><th scope=col>&lt;chr&gt;<\/th><th scope=col>&lt;dbl&gt;<\/th><\/tr>\n",
       "<\/thead>\n",
       "<tbody>\n",
       "\t<tr><td>B6<\/td><td>2900<\/td><\/tr>\n",
       "\t<tr><td>UA<\/td><td>2717<\/td><\/tr>\n",
       "\t<tr><td>EV<\/td><td>2263<\/td><\/tr>\n",
       "\t<tr><td>DL<\/td><td>1739<\/td><\/tr>\n",
       "\t<tr><td>AA<\/td><td>1151<\/td><\/tr>\n",
       "\t<tr><td>MQ<\/td><td>1068<\/td><\/tr>\n",
       "\t<tr><td>WN<\/td><td> 729<\/td><\/tr>\n",
       "\t<tr><td>9E<\/td><td> 715<\/td><\/tr>\n",
       "\t<tr><td>US<\/td><td> 639<\/td><\/tr>\n",
       "\t<tr><td>VX<\/td><td> 226<\/td><\/tr>\n",
       "\t<tr><td>FL<\/td><td> 149<\/td><\/tr>\n",
       "\t<tr><td>F9<\/td><td>  39<\/td><\/tr>\n",
       "\t<tr><td>AS<\/td><td>  31<\/td><\/tr>\n",
       "\t<tr><td>YV<\/td><td>  20<\/td><\/tr>\n",
       "\t<tr><td>HA<\/td><td>   8<\/td><\/tr>\n",
       "<\/tbody>\n",
       "<\/table>\n"
      ]
     },
     "metadata":{
      
     },
     "output_type":"display_data"
    },
    {
     "data":{
      "text\/html":[
       "<pre>%lt;0 x 0 matrix%gt;<\/pre>"
      ]
     },
     "metadata":{
      
     },
     "output_type":"display_data"
    }
   ],
   "metadata":{
    "datalore":{
     "node_id":"NFtpCetP0f4Vag9Lfh3njj",
     "type":"CODE",
     "hide_input_from_viewers":false,
     "hide_output_from_viewers":false
    }
   }
  }
 ],
 "metadata":{
  "kernelspec":{
   "display_name":"R",
   "language":"r",
   "name":"ir"
  },
  "datalore":{
   "version":1,
   "computation_mode":"JUPYTER",
   "package_manager":"conda",
   "base_environment":"minimal",
   "packages":[
    
   ]
  }
 },
 "nbformat":4,
 "nbformat_minor":4
}